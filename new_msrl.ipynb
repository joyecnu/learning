{
  "cells": [
    {
      "cell_type": "markdown",
      "metadata": {
        "id": "view-in-github",
        "colab_type": "text"
      },
      "source": [
        "<a href=\"https://colab.research.google.com/github/joyecnu/learning/blob/main/new_msrl.ipynb\" target=\"_parent\"><img src=\"https://colab.research.google.com/assets/colab-badge.svg\" alt=\"Open In Colab\"/></a>"
      ]
    },
    {
      "cell_type": "code",
      "execution_count": null,
      "metadata": {
        "colab": {
          "base_uri": "https://localhost:8080/"
        },
        "id": "93TNvc0RHL08",
        "outputId": "e1a591ba-cf10-4fd7-cfb6-030e6bca07c0"
      },
      "outputs": [
        {
          "name": "stdout",
          "output_type": "stream",
          "text": [
            "Drive already mounted at /content/drive; to attempt to forcibly remount, call drive.mount(\"/content/drive\", force_remount=True).\n"
          ]
        }
      ],
      "source": [
        "from google.colab import drive\n",
        "drive.mount('/content/drive')"
      ]
    },
    {
      "cell_type": "code",
      "source": [
        "%cd /content/drive/MyDrive/new_msrl\n"
      ],
      "metadata": {
        "colab": {
          "base_uri": "https://localhost:8080/"
        },
        "id": "dVM0hEvrywHk",
        "outputId": "a6d31f14-3a29-4cb9-9e1f-cba79ac4da05"
      },
      "execution_count": 1,
      "outputs": [
        {
          "output_type": "stream",
          "name": "stdout",
          "text": [
            "/content/drive/MyDrive/new_msrl\n"
          ]
        }
      ]
    },
    {
      "cell_type": "code",
      "source": [
        "!python test.py --dataset eth"
      ],
      "metadata": {
        "colab": {
          "base_uri": "https://localhost:8080/"
        },
        "id": "0eA69klGy04J",
        "outputId": "e88aed15-b7d6-412d-d096-f661caf65c69"
      },
      "execution_count": 13,
      "outputs": [
        {
          "output_type": "stream",
          "name": "stdout",
          "text": [
            "\n",
            "load data from following files:\n",
            "==============================\n",
            "biwi_eth.csv\n",
            "==============================\n",
            "loading model from checkpoint: ./checkpoints/eth/sampler/model_0010.p\n",
            "loading model from checkpoint: ./checkpoints/eth/vae/model_0005.p\n",
            "-------------------- STATS --------------------\n",
            "ADE: 0.9832\n",
            "FDE: 1.8769\n",
            "minADE: 0.9832\n",
            "loading model from checkpoint: ./checkpoints/eth/vae/model_0010.p\n",
            "-------------------- STATS --------------------\n",
            "ADE: 0.4803\n",
            "FDE: 0.8719\n",
            "minADE: 0.4803\n",
            "------------------------------ STATS ------------------------------\n",
            "result:minADE: 0.4803\n",
            "result:minFDE: 0.8719\n",
            "result:SAMPLER_EPOCH: %s ./checkpoints/eth/sampler/model_0010.p\n",
            "result:SAMPLER_EPOCH: %s ./checkpoints/eth/vae/model_0010.p\n"
          ]
        }
      ]
    },
    {
      "cell_type": "code",
      "source": [
        "!python trainvae.py --dataset eth  --lr 0.0005  --num_epochs 65"
      ],
      "metadata": {
        "colab": {
          "base_uri": "https://localhost:8080/"
        },
        "id": "AcmiDaVRy06b",
        "outputId": "9094aaac-cdb2-4ccf-f85e-40d7d272c821"
      },
      "execution_count": null,
      "outputs": [
        {
          "output_type": "stream",
          "name": "stdout",
          "text": [
            "\n",
            "load data from following files:\n",
            "==============================\n",
            "crowds_zara01.csv\n",
            "biwi_hotel.csv\n",
            "crowds_zara02.csv\n",
            "crowds_zara03.csv\n",
            "uni_examples.csv\n",
            "student001.csv\n",
            "student003.csv\n",
            "==============================\n",
            "eth vae | Epo: 00/65, It: 0100/3495, seq: crowds_zara01.csv, frame 02110, mse: 78.599 (107.367) kld: 9.063 (10.161) sample: 59.643 (78.096) total_loss: 147.304 (195.623)\n",
            "eth vae | Epo: 00/65, It: 0200/3495, seq: student003.csv, frame 01170, mse: 66.267 (48.878) kld: 9.381 (9.352) sample: 49.347 (44.620) total_loss: 124.995 (102.850)\n",
            "eth vae | Epo: 00/65, It: 0300/3495, seq: crowds_zara03.csv, frame 06130, mse: 56.331 (7.131) kld: 9.366 (7.543) sample: 43.576 (18.400) total_loss: 109.273 (33.073)\n",
            "eth vae | Epo: 00/65, It: 0400/3495, seq: crowds_zara01.csv, frame 05340, mse: 49.252 (11.284) kld: 9.271 (9.736) sample: 39.252 (29.251) total_loss: 97.775 (50.271)\n",
            "eth vae | Epo: 00/65, It: 0500/3495, seq: uni_examples.csv, frame 03540, mse: 43.914 (46.413) kld: 9.335 (8.043) sample: 36.240 (58.042) total_loss: 89.490 (112.497)\n",
            "eth vae | Epo: 00/65, It: 0600/3495, seq: crowds_zara02.csv, frame 00600, mse: 39.829 (27.222) kld: 9.137 (7.620) sample: 33.718 (34.740) total_loss: 82.684 (69.582)\n",
            "eth vae | Epo: 00/65, It: 0700/3495, seq: crowds_zara02.csv, frame 05160, mse: 36.221 (8.856) kld: 8.816 (5.172) sample: 31.137 (5.076) total_loss: 76.173 (19.104)\n",
            "eth vae | Epo: 00/65, It: 0800/3495, seq: crowds_zara01.csv, frame 01700, mse: 33.512 (34.704) kld: 8.408 (5.963) sample: 28.751 (19.997) total_loss: 70.671 (60.665)\n",
            "eth vae | Epo: 00/65, It: 0900/3495, seq: crowds_zara02.csv, frame 05140, mse: 32.081 (8.682) kld: 8.035 (3.777) sample: 27.025 (6.167) total_loss: 67.141 (18.626)\n",
            "eth vae | Epo: 00/65, It: 1000/3495, seq: crowds_zara01.csv, frame 02040, mse: 30.184 (8.125) kld: 7.658 (4.524) sample: 25.205 (11.652) total_loss: 63.047 (24.300)\n",
            "eth vae | Epo: 00/65, It: 1100/3495, seq: crowds_zara01.csv, frame 01220, mse: 28.607 (5.349) kld: 7.332 (3.423) sample: 23.765 (5.286) total_loss: 59.704 (14.057)\n",
            "eth vae | Epo: 00/65, It: 1200/3495, seq: crowds_zara01.csv, frame 07170, mse: 27.067 (4.312) kld: 7.010 (3.446) sample: 22.407 (1.707) total_loss: 56.485 (9.464)\n",
            "eth vae | Epo: 00/65, It: 1300/3495, seq: student001.csv, frame 02440, mse: 26.061 (14.635) kld: 6.737 (3.217) sample: 21.354 (7.647) total_loss: 54.153 (25.499)\n",
            "eth vae | Epo: 00/65, It: 1400/3495, seq: crowds_zara03.csv, frame 05390, mse: 25.026 (7.104) kld: 6.486 (3.159) sample: 20.420 (4.686) total_loss: 51.932 (14.949)\n",
            "eth vae | Epo: 00/65, It: 1500/3495, seq: crowds_zara03.csv, frame 07320, mse: 24.074 (17.578) kld: 6.260 (3.229) sample: 19.554 (13.717) total_loss: 49.888 (34.524)\n",
            "eth vae | Epo: 00/65, It: 1600/3495, seq: crowds_zara02.csv, frame 00860, mse: 23.240 (6.921) kld: 6.034 (3.554) sample: 18.778 (11.403) total_loss: 48.052 (21.879)\n",
            "eth vae | Epo: 00/65, It: 1700/3495, seq: crowds_zara02.csv, frame 08720, mse: 22.518 (2.943) kld: 5.847 (2.777) sample: 18.096 (2.919) total_loss: 46.461 (8.639)\n",
            "eth vae | Epo: 00/65, It: 1800/3495, seq: crowds_zara03.csv, frame 04490, mse: 21.799 (1.681) kld: 5.673 (2.299) sample: 17.430 (1.192) total_loss: 44.902 (5.173)\n",
            "eth vae | Epo: 00/65, It: 1900/3495, seq: student003.csv, frame 02590, mse: 21.311 (8.911) kld: 5.521 (3.406) sample: 16.901 (5.027) total_loss: 43.733 (17.344)\n",
            "eth vae | Epo: 00/65, It: 2000/3495, seq: crowds_zara01.csv, frame 07790, mse: 20.770 (4.275) kld: 5.383 (2.763) sample: 16.354 (2.080) total_loss: 42.507 (9.118)\n",
            "eth vae | Epo: 00/65, It: 2100/3495, seq: crowds_zara01.csv, frame 03060, mse: 20.420 (4.561) kld: 5.261 (3.662) sample: 15.930 (4.537) total_loss: 41.611 (12.759)\n",
            "eth vae | Epo: 00/65, It: 2200/3495, seq: student003.csv, frame 00690, mse: 20.154 (15.538) kld: 5.159 (3.266) sample: 15.544 (12.427) total_loss: 40.857 (31.231)\n",
            "eth vae | Epo: 00/65, It: 2300/3495, seq: crowds_zara02.csv, frame 06040, mse: 19.880 (5.591) kld: 5.081 (3.052) sample: 15.181 (2.769) total_loss: 40.142 (11.412)\n",
            "eth vae | Epo: 00/65, It: 2400/3495, seq: student003.csv, frame 02970, mse: 19.703 (8.908) kld: 4.996 (3.113) sample: 14.874 (4.221) total_loss: 39.574 (16.241)\n",
            "eth vae | Epo: 00/65, It: 2500/3495, seq: crowds_zara01.csv, frame 01650, mse: 19.411 (3.034) kld: 4.905 (2.836) sample: 14.530 (2.702) total_loss: 38.846 (8.572)\n",
            "eth vae | Epo: 00/65, It: 2600/3495, seq: crowds_zara02.csv, frame 09350, mse: 19.040 (4.975) kld: 4.827 (2.829) sample: 14.179 (2.968) total_loss: 38.045 (10.771)\n",
            "eth vae | Epo: 00/65, It: 2700/3495, seq: uni_examples.csv, frame 03200, mse: 18.712 (7.257) kld: 4.746 (2.209) sample: 13.846 (2.834) total_loss: 37.304 (12.300)\n",
            "eth vae | Epo: 00/65, It: 2800/3495, seq: crowds_zara01.csv, frame 07490, mse: 18.396 (9.986) kld: 4.670 (2.659) sample: 13.536 (3.579) total_loss: 36.602 (16.223)\n",
            "eth vae | Epo: 00/65, It: 2900/3495, seq: crowds_zara02.csv, frame 09060, mse: 18.063 (6.026) kld: 4.598 (2.229) sample: 13.237 (1.464) total_loss: 35.897 (9.719)\n",
            "eth vae | Epo: 00/65, It: 3000/3495, seq: student001.csv, frame 01520, mse: 17.948 (9.053) kld: 4.547 (3.105) sample: 13.006 (4.991) total_loss: 35.501 (17.150)\n",
            "eth vae | Epo: 00/65, It: 3100/3495, seq: student001.csv, frame 02660, mse: 17.685 (9.216) kld: 4.493 (2.546) sample: 12.748 (4.762) total_loss: 34.926 (16.525)\n",
            "eth vae | Epo: 00/65, It: 3200/3495, seq: crowds_zara02.csv, frame 09510, mse: 17.473 (5.043) kld: 4.444 (2.633) sample: 12.526 (3.057) total_loss: 34.444 (10.732)\n",
            "eth vae | Epo: 00/65, It: 3300/3495, seq: student003.csv, frame 04880, mse: 17.376 (5.947) kld: 4.399 (3.040) sample: 12.331 (3.122) total_loss: 34.106 (12.109)\n",
            "eth vae | Epo: 00/65, It: 3400/3495, seq: student003.csv, frame 05000, mse: 17.167 (17.784) kld: 4.349 (2.271) sample: 12.123 (17.421) total_loss: 33.639 (37.476)\n",
            "eth vae | Epo: 01/65, It: 0100/3495, seq: biwi_hotel.csv, frame 04690, mse: 8.893 (6.925) kld: 2.439 (2.233) sample: 4.274 (3.173) total_loss: 15.606 (12.330)\n",
            "eth vae | Epo: 01/65, It: 0200/3495, seq: biwi_hotel.csv, frame 04140, mse: 11.305 (5.621) kld: 2.629 (3.198) sample: 5.264 (3.211) total_loss: 19.198 (12.029)\n",
            "eth vae | Epo: 01/65, It: 0300/3495, seq: biwi_hotel.csv, frame 09640, mse: 10.451 (4.406) kld: 2.653 (2.353) sample: 4.985 (3.891) total_loss: 18.088 (10.650)\n",
            "eth vae | Epo: 01/65, It: 0400/3495, seq: crowds_zara01.csv, frame 00480, mse: 10.675 (7.310) kld: 2.654 (2.520) sample: 5.198 (3.284) total_loss: 18.528 (13.114)\n",
            "eth vae | Epo: 01/65, It: 0500/3495, seq: crowds_zara03.csv, frame 05380, mse: 10.891 (3.832) kld: 2.634 (2.123) sample: 5.218 (3.084) total_loss: 18.743 (9.039)\n",
            "eth vae | Epo: 01/65, It: 0600/3495, seq: student001.csv, frame 03400, mse: 10.575 (5.952) kld: 2.614 (2.741) sample: 5.098 (3.667) total_loss: 18.286 (12.360)\n",
            "eth vae | Epo: 01/65, It: 0700/3495, seq: crowds_zara03.csv, frame 05830, mse: 10.436 (15.497) kld: 2.612 (3.513) sample: 5.026 (7.732) total_loss: 18.074 (26.742)\n",
            "eth vae | Epo: 01/65, It: 0800/3495, seq: student001.csv, frame 03950, mse: 10.563 (7.859) kld: 2.654 (2.797) sample: 5.047 (5.186) total_loss: 18.265 (15.841)\n",
            "eth vae | Epo: 01/65, It: 0900/3495, seq: crowds_zara03.csv, frame 01070, mse: 10.575 (1.909) kld: 2.654 (2.181) sample: 5.065 (1.037) total_loss: 18.293 (5.127)\n",
            "eth vae | Epo: 01/65, It: 1000/3495, seq: crowds_zara01.csv, frame 00410, mse: 10.472 (22.959) kld: 2.632 (2.289) sample: 5.029 (4.407) total_loss: 18.134 (29.654)\n",
            "eth vae | Epo: 01/65, It: 1100/3495, seq: student001.csv, frame 02900, mse: 10.311 (8.406) kld: 2.605 (2.716) sample: 4.930 (5.138) total_loss: 17.845 (16.260)\n",
            "eth vae | Epo: 01/65, It: 1200/3495, seq: crowds_zara02.csv, frame 08520, mse: 10.434 (4.924) kld: 2.639 (2.832) sample: 5.046 (2.252) total_loss: 18.119 (10.009)\n",
            "eth vae | Epo: 01/65, It: 1300/3495, seq: student003.csv, frame 04590, mse: 10.313 (6.462) kld: 2.647 (2.467) sample: 4.974 (2.590) total_loss: 17.934 (11.519)\n",
            "eth vae | Epo: 01/65, It: 1400/3495, seq: biwi_hotel.csv, frame 07150, mse: 10.401 (1.838) kld: 2.650 (2.104) sample: 5.008 (1.124) total_loss: 18.059 (5.066)\n",
            "eth vae | Epo: 01/65, It: 1500/3495, seq: student001.csv, frame 00080, mse: 10.343 (9.719) kld: 2.626 (2.578) sample: 4.941 (4.960) total_loss: 17.909 (17.257)\n",
            "eth vae | Epo: 01/65, It: 1600/3495, seq: crowds_zara03.csv, frame 06360, mse: 10.300 (9.375) kld: 2.611 (2.000) sample: 4.902 (2.333) total_loss: 17.814 (13.708)\n",
            "eth vae | Epo: 01/65, It: 1700/3495, seq: crowds_zara02.csv, frame 00810, mse: 10.267 (6.205) kld: 2.602 (2.442) sample: 4.862 (9.518) total_loss: 17.731 (18.165)\n",
            "eth vae | Epo: 01/65, It: 1800/3495, seq: student001.csv, frame 03600, mse: 10.177 (8.240) kld: 2.604 (2.632) sample: 4.832 (5.324) total_loss: 17.612 (16.196)\n",
            "eth vae | Epo: 01/65, It: 1900/3495, seq: crowds_zara02.csv, frame 06660, mse: 10.222 (4.826) kld: 2.619 (3.029) sample: 4.894 (1.766) total_loss: 17.735 (9.622)\n",
            "eth vae | Epo: 01/65, It: 2000/3495, seq: biwi_hotel.csv, frame 00620, mse: 10.296 (3.841) kld: 2.631 (2.945) sample: 4.908 (3.428) total_loss: 17.835 (10.215)\n",
            "eth vae | Epo: 01/65, It: 2100/3495, seq: crowds_zara02.csv, frame 10260, mse: 10.341 (11.175) kld: 2.637 (3.182) sample: 4.909 (11.277) total_loss: 17.888 (25.634)\n",
            "eth vae | Epo: 01/65, It: 2200/3495, seq: student001.csv, frame 02680, mse: 10.311 (13.329) kld: 2.630 (2.323) sample: 4.881 (4.863) total_loss: 17.822 (20.515)\n",
            "eth vae | Epo: 01/65, It: 2300/3495, seq: crowds_zara02.csv, frame 02300, mse: 10.307 (3.994) kld: 2.629 (2.069) sample: 4.896 (1.405) total_loss: 17.832 (7.468)\n",
            "eth vae | Epo: 01/65, It: 2400/3495, seq: crowds_zara02.csv, frame 00190, mse: 10.227 (3.090) kld: 2.623 (2.786) sample: 4.868 (1.380) total_loss: 17.718 (7.256)\n",
            "eth vae | Epo: 01/65, It: 2500/3495, seq: crowds_zara03.csv, frame 00290, mse: 10.131 (7.360) kld: 2.617 (2.540) sample: 4.847 (1.917) total_loss: 17.595 (11.817)\n",
            "eth vae | Epo: 01/65, It: 2600/3495, seq: crowds_zara03.csv, frame 01430, mse: 10.041 (5.768) kld: 2.609 (2.047) sample: 4.800 (2.271) total_loss: 17.450 (10.087)\n",
            "eth vae | Epo: 01/65, It: 2700/3495, seq: uni_examples.csv, frame 05820, mse: 9.937 (9.775) kld: 2.603 (2.903) sample: 4.749 (3.496) total_loss: 17.289 (16.174)\n",
            "eth vae | Epo: 01/65, It: 2800/3495, seq: student001.csv, frame 03990, mse: 9.902 (7.044) kld: 2.597 (2.422) sample: 4.746 (3.349) total_loss: 17.245 (12.816)\n",
            "eth vae | Epo: 01/65, It: 2900/3495, seq: crowds_zara01.csv, frame 03000, mse: 9.857 (10.157) kld: 2.592 (3.305) sample: 4.719 (1.373) total_loss: 17.168 (14.835)\n",
            "eth vae | Epo: 01/65, It: 3000/3495, seq: crowds_zara03.csv, frame 04960, mse: 9.825 (2.569) kld: 2.595 (2.095) sample: 4.718 (1.697) total_loss: 17.138 (6.361)\n",
            "eth vae | Epo: 01/65, It: 3100/3495, seq: crowds_zara01.csv, frame 05620, mse: 9.793 (16.514) kld: 2.594 (2.690) sample: 4.725 (4.058) total_loss: 17.112 (23.262)\n",
            "eth vae | Epo: 01/65, It: 3200/3495, seq: crowds_zara03.csv, frame 02970, mse: 9.720 (18.399) kld: 2.589 (2.000) sample: 4.692 (3.664) total_loss: 17.002 (24.063)\n",
            "eth vae | Epo: 01/65, It: 3300/3495, seq: crowds_zara03.csv, frame 01990, mse: 9.676 (3.102) kld: 2.590 (2.629) sample: 4.694 (2.455) total_loss: 16.961 (8.186)\n",
            "eth vae | Epo: 01/65, It: 3400/3495, seq: crowds_zara01.csv, frame 05980, mse: 9.639 (7.728) kld: 2.587 (2.873) sample: 4.668 (7.154) total_loss: 16.894 (17.754)\n",
            "eth vae | Epo: 02/65, It: 0100/3495, seq: biwi_hotel.csv, frame 10170, mse: 8.211 (10.573) kld: 2.507 (2.265) sample: 4.534 (1.587) total_loss: 15.252 (14.426)\n",
            "eth vae | Epo: 02/65, It: 0200/3495, seq: crowds_zara01.csv, frame 06530, mse: 8.935 (2.170) kld: 2.459 (4.364) sample: 4.386 (7.987) total_loss: 15.780 (14.521)\n",
            "eth vae | Epo: 02/65, It: 0300/3495, seq: crowds_zara01.csv, frame 00360, mse: 8.297 (4.471) kld: 2.422 (2.000) sample: 4.137 (1.078) total_loss: 14.856 (7.549)\n",
            "eth vae | Epo: 02/65, It: 0400/3495, seq: crowds_zara01.csv, frame 01760, mse: 9.088 (4.861) kld: 2.459 (2.526) sample: 4.542 (4.431) total_loss: 16.089 (11.818)\n",
            "eth vae | Epo: 02/65, It: 0500/3495, seq: student003.csv, frame 01890, mse: 8.902 (10.375) kld: 2.482 (2.457) sample: 4.568 (3.394) total_loss: 15.952 (16.226)\n",
            "eth vae | Epo: 02/65, It: 0600/3495, seq: uni_examples.csv, frame 01650, mse: 8.695 (29.816) kld: 2.465 (2.334) sample: 4.497 (17.274) total_loss: 15.658 (49.424)\n",
            "eth vae | Epo: 02/65, It: 0700/3495, seq: crowds_zara03.csv, frame 04530, mse: 8.616 (3.790) kld: 2.481 (2.096) sample: 4.420 (0.782) total_loss: 15.518 (6.668)\n",
            "eth vae | Epo: 02/65, It: 0800/3495, seq: crowds_zara03.csv, frame 04500, mse: 8.528 (5.970) kld: 2.502 (2.800) sample: 4.412 (1.532) total_loss: 15.442 (10.302)\n",
            "eth vae | Epo: 02/65, It: 0900/3495, seq: student003.csv, frame 01520, mse: 8.470 (14.134) kld: 2.535 (2.606) sample: 4.545 (7.401) total_loss: 15.550 (24.141)\n",
            "eth vae | Epo: 02/65, It: 1000/3495, seq: biwi_hotel.csv, frame 07020, mse: 8.303 (7.038) kld: 2.536 (2.965) sample: 4.501 (5.538) total_loss: 15.340 (15.541)\n",
            "eth vae | Epo: 02/65, It: 1100/3495, seq: uni_examples.csv, frame 03250, mse: 8.146 (21.271) kld: 2.528 (2.309) sample: 4.405 (9.085) total_loss: 15.078 (32.665)\n",
            "eth vae | Epo: 02/65, It: 1200/3495, seq: uni_examples.csv, frame 05430, mse: 8.177 (9.789) kld: 2.553 (4.053) sample: 4.444 (11.901) total_loss: 15.174 (25.744)\n"
          ]
        }
      ]
    },
    {
      "cell_type": "code",
      "source": [
        "!python trainvae.py --dataset sdd  --lr 0.0005  --num_epochs 65"
      ],
      "metadata": {
        "id": "Yw5bpmM1y08x"
      },
      "execution_count": null,
      "outputs": []
    },
    {
      "cell_type": "code",
      "source": [
        "!python trainvae.py --dataset zara1  --lr 0.0005  --num_epochs 65"
      ],
      "metadata": {
        "id": "xVH0_2swy0-4"
      },
      "execution_count": null,
      "outputs": []
    },
    {
      "cell_type": "code",
      "source": [
        "!python trainvae.py --dataset zara2  --lr 0.0005  --num_epochs 65"
      ],
      "metadata": {
        "id": "pncu_bH23nDx"
      },
      "execution_count": null,
      "outputs": []
    },
    {
      "cell_type": "code",
      "source": [
        "!python trainvae.py --dataset univ  --lr 0.0005  --num_epochs 65"
      ],
      "metadata": {
        "id": "SirOfer_3pcl"
      },
      "execution_count": null,
      "outputs": []
    },
    {
      "cell_type": "code",
      "source": [
        "!python trainvae.py --dataset hotel  --lr 0.0005  --num_epochs 65"
      ],
      "metadata": {
        "id": "8kUq47bW3uzA"
      },
      "execution_count": null,
      "outputs": []
    },
    {
      "cell_type": "markdown",
      "source": [],
      "metadata": {
        "id": "X9xQBmUp2hnq"
      }
    }
  ],
  "metadata": {
    "accelerator": "GPU",
    "colab": {
      "gpuType": "T4",
      "provenance": [],
      "toc_visible": true,
      "mount_file_id": "1yVzRTfFW_mTfNNyucNJz_ivRcxilVfZd",
      "authorship_tag": "ABX9TyP2S3n01iQHi8u3T3jVR33t",
      "include_colab_link": true
    },
    "kernelspec": {
      "display_name": "Python 3",
      "name": "python3"
    },
    "language_info": {
      "name": "python"
    }
  },
  "nbformat": 4,
  "nbformat_minor": 0
}